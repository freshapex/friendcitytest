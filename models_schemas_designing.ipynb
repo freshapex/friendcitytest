{
 "cells": [
  {
   "cell_type": "markdown",
   "metadata": {},
   "source": [
    "# 数据库模型models 与 类型验证模型 schemas 的设计原则与运用范围"
   ]
  },
  {
   "cell_type": "markdown",
   "metadata": {},
   "source": [
    "## models \n",
    "1. 考虑所有需要保存到数据库中的属性，不包括暂存属性和转换储存前的属性，比如存储用户密码为hased_password 而不是 password,考虑要*全*\n",
    "2. 包括通过API与用户交互的属性\n",
    "3. 如果没有通过API获取，可以在model中设置默认值，或者在CRUD创建时添加 > user_crud.create() \n",
    "4. sqlalchemy 中 多重继承有问题 , 建议直接 都从 Base 模型继承 ，__tablename__ 的设置可以手动，也可以@declared_attr\n",
    "5. 考虑数据库如mysql的类型，sqlalchemy 中的类型，编程语言如python的类型的不同，参见相关表格，特别注意datetime\n",
    "6. 在设置类型时注意 datetime.now 与 datetime.now() 的区别如：create_time= Column(DateTime,default=datetime.now) \n",
    "   \n",
    "### 一对多\n",
    "\n",
    "### 一对一\n",
    "\n",
    "### 多对多"
   ]
  },
  {
   "cell_type": "code",
   "execution_count": 1,
   "metadata": {},
   "outputs": [],
   "source": [
    "from sqlalchemy.ext.declarative import declarative_base\n",
    "from sqlalchemy import Column,String,Integer,Boolean,DateTime,ForeignKey\n",
    "from sqlalchemy.orm import relationship\n",
    "\n",
    "\n",
    "Base = declarative_base()\n",
    "\n",
    "class User(Base):\n",
    "\n",
    "    __tablename__ = \"user\"\n",
    "        \n",
    "    id = Column(Integer,primary_key=True,index=True)       #一般系统自建不需要用户schema\n",
    "    username = Column(String(30),index=True)\n",
    "    hashed_password = Column(String(500),nullable=False)    # 用户密码是转换为hashed_password，用户schema 为password\n",
    "    email = Column(String(30),nullable=False)\n",
    "    telephone = Column(Integer,index=True)\n",
    "    tax = Column(Integer,index=True)\n",
    "    useraddress = Column(String(100))\n",
    "    content = Column(String(500))\n",
    "\n",
    "    is_active = Column(Boolean(),default=True)            # 普通用户可能不需要知道，但系统需要储存的，都应该放到数据库属性中\n",
    "    is_shuser = Column(Boolean(),default=False)\n",
    "    is_fcuser = Column(Boolean(),default=False)\n",
    "    is_manager = Column(Boolean(),default=False)    \n",
    "    \n",
    "    create_time= Column(DateTime,default=datetime.now)     #  系统自动储存，一般不需要用户schema\n",
    "    update_time= Column(DateTime,default=datetime.now,onupdate=datetime.now)   "
   ]
  },
  {
   "cell_type": "markdown",
   "metadata": {},
   "source": [
    "## schemas \n",
    "1. 类型验证，主要考虑的是面向各个对象属性来路和去路的控制性手段。\n",
    "2. 分为 变量的类型控制 var:Schema 如：current_user: models.User = Depends(deps.get_current_active_user)） \n",
    "3. 和 api 中 用户输入控制：\n",
    "    @router.put(\"/me\", response_model=schemas.User)   \n",
    "    def update_user_me(...):pass\n",
    "4. 一般共享的Base类，主要是指 在数据库储存、API中都具有的属性，所以一般不包含id,password/hased_password等\n",
    "5. 一般Create类，考虑password，以及一些在Base里不强制可选Optional，但Create强制提供\n",
    "6. 一般Update类，跟Base 类同，主要考虑哪些是更新有，而Base没有\n",
    "7. 一般InDBBase类，跟返回用户的Item类属性同\n",
    "8. 一般InDB类，在InDBBase基础上添加hashpassword\n"
   ]
  },
  {
   "cell_type": "code",
   "execution_count": null,
   "metadata": {},
   "outputs": [],
   "source": [
    "from typing import Optional\n",
    "from pydantic import BaseModel, EmailStr\n",
    "\n",
    "# Shared properties  共享的属性\n",
    "class UserBase(BaseModel):\n",
    "\n",
    "    username : Optional[str] = None\n",
    "    # password not shared\n",
    "    email: Optional[EmailStr] = None\n",
    "    telephone: Optional[int] = None\n",
    "    tax : Optional[str] = None\n",
    "    useraddress: Optional[str] = None\n",
    "    content: Optional[str] = None    \n",
    "\n",
    "\n",
    "# Properties to receive via API on creation  新建user时，通过API接收的属性  属性来源之一，用户\n",
    "class UserCreate(UserBase):\n",
    "    username: str\n",
    "    password: str\n",
    "    email : EmailStr\n",
    "\n",
    "\n",
    "# Properties to receive via API on update   更新user时，通过API接收的属性\n",
    "class UserUpdate(UserBase):\n",
    "    password: Optional[str] = None\n",
    "\n",
    "\n",
    "class UserInDBBase(UserBase):\n",
    "    id: Optional[int] = None\n",
    "\n",
    "    class Config:\n",
    "        orm_mode = True\n",
    "\n",
    "\n",
    "# Additional properties to return via API   通过API返回给frontend/client的属性,额外属性，一般同时也是数据库的属性\n",
    "class User(UserInDBBase):   # the same as UserInDBBase,一般同时也是数据库的属性(除密码)\n",
    "    pass\n",
    "\n",
    "\n",
    "# Additional properties stored in DB  储存进数据库的最终数据，一般包含没有通过API 获得，但需要储存的数据 \n",
    "class UserInDB(UserInDBBase):\n",
    "    hashed_password: str\n",
    "    is_active: Optional[bool] = True\n",
    "    is_shuser: Optional[bool] = False\n",
    "    is_fcuser: Optional[bool] = False\n",
    "    is_manager: Optional[bool] = False"
   ]
  }
 ],
 "metadata": {
  "interpreter": {
   "hash": "4e0b39fdc4f2df2992ef135d097972ec225e019845a073717c5b1bc8df292c8a"
  },
  "kernelspec": {
   "display_name": "Python 3.10.2 64-bit",
   "language": "python",
   "name": "python3"
  },
  "language_info": {
   "codemirror_mode": {
    "name": "ipython",
    "version": 3
   },
   "file_extension": ".py",
   "mimetype": "text/x-python",
   "name": "python",
   "nbconvert_exporter": "python",
   "pygments_lexer": "ipython3",
   "version": "3.10.2"
  },
  "orig_nbformat": 4
 },
 "nbformat": 4,
 "nbformat_minor": 2
}
